{
 "cells": [
  {
   "attachments": {},
   "cell_type": "markdown",
   "id": "29fb53f3-083d-40b6-acfd-095be0117262",
   "metadata": {},
   "source": [
    "## 📌 OpenCV Basics: Reading and Displaying Images\n",
    "### 🖼️ Reading an Image\n",
    "To display any image using OpenCV, follow these steps:\n",
    "\n",
    "Import OpenCV:"
   ]
  },
  {
   "cell_type": "code",
   "execution_count": 1,
   "id": "e7250622-828d-4100-b45b-fbd0a345f0f7",
   "metadata": {},
   "outputs": [],
   "source": [
    "import cv2"
   ]
  },
  {
   "attachments": {},
   "cell_type": "markdown",
   "id": "ad63d49f-49a3-46ac-b8c9-e6eafbad1311",
   "metadata": {},
   "source": [
    "### \t2. Use cv2.imread() \n",
    "\tto read the image:\n",
    "###     3. Use cv2.imshow()\n",
    "\tto show the image in a window:\n",
    "### \t4. Use cv2.waitKey()\n",
    "\tto keep the window open:\n",
    "###     5. Use cv2.destroyAllWindows():\n",
    "\t○ Closes all OpenCV windows that were opened.\n",
    "### \t6. Use cv2.destroyWindow(window_name):\n",
    "\t○ Closes only the window with the specified name."
   ]
  },
  {
   "cell_type": "code",
   "execution_count": 7,
   "id": "b0799c79-2174-4808-9015-bb14994acc86",
   "metadata": {},
   "outputs": [],
   "source": [
    "# img = cv2.imread(\"img-1.webp\")\n",
    "# cv2.imshow(\"image 1\", img)\n",
    "# cv2.waitKey(0) \n",
    "# # cv2.waitKey(10000) #for 10 secs\n",
    "# # cv2.destroyAllWindows()\n",
    "# cv2.destroyWindow(\"image 1\")"
   ]
  },
  {
   "cell_type": "code",
   "execution_count": 9,
   "id": "28803241-6db5-4a21-a9e3-19fbe5a9d510",
   "metadata": {},
   "outputs": [],
   "source": [
    "img = cv2.imread(\"img-1.webp\")\n",
    "cv2.imshow(\"image 1\", img)\n",
    "cv2.imshow(\"image 2\", img )\n",
    "cv2.waitKey(0) \n",
    "# cv2.waitKey(10000) #for 10 secs\n",
    "cv2.destroyAllWindows()\n",
    "# cv2.destroyWindow(\"image 1\")"
   ]
  },
  {
   "cell_type": "code",
   "execution_count": null,
   "id": "e158c114-07f5-4a5e-a7f2-b97708d7713e",
   "metadata": {},
   "outputs": [],
   "source": []
  },
  {
   "cell_type": "code",
   "execution_count": null,
   "id": "a3315d88-8784-40d9-aaf0-822c10a0ffd2",
   "metadata": {},
   "outputs": [],
   "source": []
  }
 ],
 "metadata": {
  "kernelspec": {
   "display_name": "Python 3 (ipykernel)",
   "language": "python",
   "name": "python3"
  },
  "language_info": {
   "codemirror_mode": {
    "name": "ipython",
    "version": 3
   },
   "file_extension": ".py",
   "mimetype": "text/x-python",
   "name": "python",
   "nbconvert_exporter": "python",
   "pygments_lexer": "ipython3",
   "version": "3.10.0"
  }
 },
 "nbformat": 4,
 "nbformat_minor": 5
}
