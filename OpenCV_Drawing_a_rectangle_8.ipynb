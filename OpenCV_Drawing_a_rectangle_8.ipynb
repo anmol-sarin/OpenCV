{
 "cells": [
  {
   "attachments": {},
   "cell_type": "markdown",
   "id": "4d19b4d1-4b98-4662-aad3-ed36c5cd9a59",
   "metadata": {},
   "source": [
    "## Drawing Rectangle using OpenCV IN AN IMAGE\n",
    "#### Syntax:\n",
    "Use cv2.rectangle(image, pt1, pt2, color, thickness, lineType)\n",
    "<br>pt1: Top-left corner (x1, y1)\n",
    "<br>pt2: Bottom-right corner (x2, y2)\n",
    "<br>Example:\n",
    "<br>cv2.rectangle(img, (100, 50), (400, 470), (0, 255, 0), 2, cv2.LINE_4)"
   ]
  },
  {
   "cell_type": "code",
   "execution_count": 1,
   "id": "68cd8da2-63fb-4581-bea8-9f7538e4844f",
   "metadata": {},
   "outputs": [],
   "source": [
    "import cv2"
   ]
  },
  {
   "cell_type": "code",
   "execution_count": 15,
   "id": "5195a0e9-ffc8-410d-8d91-3f60b1bff5ca",
   "metadata": {},
   "outputs": [],
   "source": [
    "img = cv2.imread(r'C:\\Users\\anmol sarin\\OneDrive\\Desktop\\me\\opencv\\images\\img-1.webp')\n",
    "img_resize = cv2.resize(img , (560,310))\n",
    "img_new = cv2.rectangle(img_resize , (230,50) ,(335,200) , (0,255,0) , 2 , 4)\n",
    "cv2.imshow('image' , img_new)\n",
    "cv2.waitKey(0)\n",
    "cv2.destroyAllWindows()"
   ]
  },
  {
   "cell_type": "code",
   "execution_count": null,
   "id": "10b99af2-3e10-4074-a32c-26dcc69006ef",
   "metadata": {},
   "outputs": [],
   "source": []
  }
 ],
 "metadata": {
  "kernelspec": {
   "display_name": "Python 3 (ipykernel)",
   "language": "python",
   "name": "python3"
  },
  "language_info": {
   "codemirror_mode": {
    "name": "ipython",
    "version": 3
   },
   "file_extension": ".py",
   "mimetype": "text/x-python",
   "name": "python",
   "nbconvert_exporter": "python",
   "pygments_lexer": "ipython3",
   "version": "3.10.0"
  }
 },
 "nbformat": 4,
 "nbformat_minor": 5
}
