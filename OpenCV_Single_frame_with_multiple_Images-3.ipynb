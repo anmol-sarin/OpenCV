{
 "cells": [
  {
   "attachments": {},
   "cell_type": "markdown",
   "id": "ab27a83b-fb72-40e0-bee6-a3cfd231f7b9",
   "metadata": {},
   "source": [
    "## 🖼️ Single Frame with Multiple Images\n",
    "#### ✅ Goal:\n",
    "\t• Show multiple images inside a single frame (for layout or comparison purposes).\n",
    "\t• Combine images using NumPy functions like np.hstack() or np.vstack() to create a single canvas."
   ]
  },
  {
   "cell_type": "code",
   "execution_count": 2,
   "id": "d65a895a-718d-46bf-aca5-aa022a20b79f",
   "metadata": {},
   "outputs": [],
   "source": [
    "import cv2\n",
    "import numpy as np"
   ]
  },
  {
   "cell_type": "code",
   "execution_count": null,
   "id": "a8cb5b91-e65d-4d71-b2ed-84959a596f58",
   "metadata": {},
   "outputs": [],
   "source": [
    "img = cv2.imread(\"img-2.webp\")\n",
    "img_small = cv2.resize(img , (300,300))\n",
    "h = np.hstack([img_small,img_small])\n",
    "cv2.imshow(\"image\" , h)\n",
    "cv2.waitKey(0)\n",
    "cv2.destroyAllWindows()"
   ]
  },
  {
   "cell_type": "code",
   "execution_count": 6,
   "id": "69598957-9729-47f4-b416-2c6c076f3579",
   "metadata": {},
   "outputs": [],
   "source": [
    "img = cv2.imread(\"img-2.webp\")\n",
    "img_small = cv2.resize(img , (300,300))\n",
    "h = np.vstack([img_small,img_small])\n",
    "cv2.imshow(\"image\" , h)\n",
    "cv2.waitKey(0)\n",
    "cv2.destroyAllWindows()"
   ]
  },
  {
   "cell_type": "code",
   "execution_count": 7,
   "id": "16890524-55c8-4ef4-85a6-f92f40d62ace",
   "metadata": {},
   "outputs": [],
   "source": [
    "img = cv2.imread(\"img-2.webp\")\n",
    "img_small = cv2.resize(img , (300,300))\n",
    "h = np.hstack([img_small,img_small])\n",
    "v = np.vstack([h,h])\n",
    "cv2.imshow(\"image\" , v)\n",
    "cv2.waitKey(0)\n",
    "cv2.destroyAllWindows()"
   ]
  },
  {
   "cell_type": "code",
   "execution_count": null,
   "id": "5a4655a9-a4ca-42dd-ba2e-d10997c3c8bd",
   "metadata": {},
   "outputs": [],
   "source": []
  }
 ],
 "metadata": {
  "kernelspec": {
   "display_name": "Python 3 (ipykernel)",
   "language": "python",
   "name": "python3"
  },
  "language_info": {
   "codemirror_mode": {
    "name": "ipython",
    "version": 3
   },
   "file_extension": ".py",
   "mimetype": "text/x-python",
   "name": "python",
   "nbconvert_exporter": "python",
   "pygments_lexer": "ipython3",
   "version": "3.10.0"
  }
 },
 "nbformat": 4,
 "nbformat_minor": 5
}
