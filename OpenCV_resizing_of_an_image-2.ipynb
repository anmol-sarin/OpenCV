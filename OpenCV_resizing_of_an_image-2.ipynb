{
 "cells": [
  {
   "cell_type": "markdown",
   "id": "e7a9d1e3-61e0-412e-aa97-21442f1c69fb",
   "metadata": {},
   "source": [
    "## Image Resizing"
   ]
  },
  {
   "cell_type": "code",
   "execution_count": 1,
   "id": "e7af0a3b-5be3-4aa6-99b5-d340bf4d1a94",
   "metadata": {},
   "outputs": [],
   "source": [
    "import cv2"
   ]
  },
  {
   "cell_type": "code",
   "execution_count": 8,
   "id": "113c38e5-d6ba-4a92-973d-b0fae76f9f13",
   "metadata": {},
   "outputs": [],
   "source": [
    "img = cv2.imread(\"img-3.webp\")\n",
    "img_resized = cv2.resize(img , (500,500))\n",
    "# cv2.imshow(\"original image\" , img)\n",
    "cv2.imshow(\"resized image\" , img_resized)\n",
    "cv2.waitKey(0)\n",
    "cv2.destroyAllWindows()"
   ]
  },
  {
   "cell_type": "code",
   "execution_count": null,
   "id": "121efd7e-1d89-45ad-b21c-73b75f681554",
   "metadata": {},
   "outputs": [],
   "source": []
  }
 ],
 "metadata": {
  "kernelspec": {
   "display_name": "Python 3 (ipykernel)",
   "language": "python",
   "name": "python3"
  },
  "language_info": {
   "codemirror_mode": {
    "name": "ipython",
    "version": 3
   },
   "file_extension": ".py",
   "mimetype": "text/x-python",
   "name": "python",
   "nbconvert_exporter": "python",
   "pygments_lexer": "ipython3",
   "version": "3.10.0"
  }
 },
 "nbformat": 4,
 "nbformat_minor": 5
}
