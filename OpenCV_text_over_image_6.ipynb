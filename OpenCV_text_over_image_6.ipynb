{
 "cells": [
  {
   "cell_type": "code",
   "execution_count": 1,
   "id": "d17c4fea-4953-47de-bb89-5c6400356d4f",
   "metadata": {},
   "outputs": [],
   "source": [
    "import cv2"
   ]
  },
  {
   "cell_type": "code",
   "execution_count": 7,
   "id": "a58c5571-04a5-431e-b61e-ae661851fa08",
   "metadata": {},
   "outputs": [],
   "source": [
    "img = cv2.imread(r\"C:\\Users\\anmol sarin\\OneDrive\\Desktop\\me\\opencv\\images\\img-1.webp\")\n",
    "\n",
    "text = cv2.putText(img = img,\n",
    "                   text=\"Hello World\", \n",
    "                   org=(80,80), \n",
    "                   fontFace =cv2.FONT_HERSHEY_SIMPLEX , \n",
    "                   fontScale = 3 , \n",
    "                   color = (0,0,255), \n",
    "                   thickness = 3, \n",
    "                   lineType = cv2.LINE_8, \n",
    "                   bottomLeftOrigin = False)\n",
    "\n",
    "cv2.imshow(\"image\",text)\n",
    "cv2.waitKey(0)\n",
    "cv2.destroyAllWindows()"
   ]
  },
  {
   "cell_type": "code",
   "execution_count": 10,
   "id": "360fb077-22d6-47c5-a91c-bd2294271af2",
   "metadata": {},
   "outputs": [],
   "source": [
    "img = cv2.imread(r\"C:\\Users\\anmol sarin\\OneDrive\\Desktop\\me\\opencv\\images\\img-1.webp\")\n",
    "\n",
    "text = cv2.putText(img = img,\n",
    "                   text=\"Hello World\", \n",
    "                   org=(80,80), \n",
    "                   fontFace =cv2.FONT_HERSHEY_SIMPLEX , \n",
    "                   fontScale = 3 , \n",
    "                   color = (0,0,255), \n",
    "                   thickness = 3, \n",
    "                   lineType = cv2.LINE_8, \n",
    "                   bottomLeftOrigin = False)\n",
    "text = cv2.putText(img = text,\n",
    "                   text=\"Hello World\", \n",
    "                   org=(80,80), \n",
    "                   fontFace =cv2.FONT_HERSHEY_SIMPLEX , \n",
    "                   fontScale = 3 , \n",
    "                   color = (255,0,255), \n",
    "                   thickness = 3, \n",
    "                   lineType = cv2.LINE_8, \n",
    "                   bottomLeftOrigin = True)\n",
    "\n",
    "\n",
    "cv2.imshow(\"image\",text)\n",
    "cv2.waitKey(0)\n",
    "cv2.destroyAllWindows()"
   ]
  },
  {
   "cell_type": "code",
   "execution_count": null,
   "id": "f27bc75b-156b-47b0-9c1d-59912465930c",
   "metadata": {},
   "outputs": [],
   "source": []
  }
 ],
 "metadata": {
  "kernelspec": {
   "display_name": "Python 3 (ipykernel)",
   "language": "python",
   "name": "python3"
  },
  "language_info": {
   "codemirror_mode": {
    "name": "ipython",
    "version": 3
   },
   "file_extension": ".py",
   "mimetype": "text/x-python",
   "name": "python",
   "nbconvert_exporter": "python",
   "pygments_lexer": "ipython3",
   "version": "3.10.0"
  }
 },
 "nbformat": 4,
 "nbformat_minor": 5
}
