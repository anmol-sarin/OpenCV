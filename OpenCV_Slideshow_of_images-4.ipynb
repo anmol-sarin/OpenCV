{
 "cells": [
  {
   "attachments": {},
   "cell_type": "markdown",
   "id": "d84ba8b1-0b10-4857-98a4-c74a3e8f6ac2",
   "metadata": {},
   "source": [
    "## 🖼️ Topic: Creating an Image Slideshow using OpenCV\n",
    "#### 📌 Objective:\n",
    "To create an image slideshow that:\n",
    "\t• Automatically transitions between images.\n",
    "\t• Can also be navigated using a key press.\n",
    "\t• Handles multiple image files from a folder and displays them in a resizable window.\n"
   ]
  },
  {
   "cell_type": "code",
   "execution_count": 1,
   "id": "2e2e36ef-6fb6-4455-9e85-5b5fc537372b",
   "metadata": {},
   "outputs": [],
   "source": [
    "import cv2\n",
    "import numpy as np\n",
    "import os"
   ]
  },
  {
   "cell_type": "code",
   "execution_count": 8,
   "id": "659688bc-abb2-49e7-8586-2a3b48a2ccb2",
   "metadata": {},
   "outputs": [
    {
     "name": "stdout",
     "output_type": "stream",
     "text": [
      "['img-1.webp', 'img-2.webp', 'img-3.webp', 'img-4.jpeg']\n"
     ]
    }
   ],
   "source": [
    "# folder_path = \"C:\\\\Users\\\\anmol sarin\\\\OneDrive\\\\Desktop\\\\me\\\\opencv\"\n",
    "folder_path_2 = \"C:\\\\Users\\\\anmol sarin\\\\OneDrive\\\\Desktop\\\\me\\\\opencv\\\\images\"\n",
    "list_name = os.listdir(folder_path_2)\n",
    "print(list_name)"
   ]
  },
  {
   "cell_type": "code",
   "execution_count": 9,
   "id": "0eac5c1a-63cc-4028-9f9f-99a68bd82a74",
   "metadata": {},
   "outputs": [],
   "source": [
    "for name in list_name:\n",
    "    img_name = folder_path_2 + \"\\\\\" + name\n",
    "    img = cv2.imread(img_name)\n",
    "    img_resize = cv2.resize(img,(300,300))\n",
    "    cv2.imshow(\"images_slideshow\" ,img_resize)\n",
    "    cv2.waitKey(0)\n",
    "cv2.destroyAllWindows()"
   ]
  },
  {
   "cell_type": "code",
   "execution_count": null,
   "id": "9937bed4-1238-4a56-884a-7cee0da89090",
   "metadata": {},
   "outputs": [],
   "source": []
  }
 ],
 "metadata": {
  "kernelspec": {
   "display_name": "Python 3 (ipykernel)",
   "language": "python",
   "name": "python3"
  },
  "language_info": {
   "codemirror_mode": {
    "name": "ipython",
    "version": 3
   },
   "file_extension": ".py",
   "mimetype": "text/x-python",
   "name": "python",
   "nbconvert_exporter": "python",
   "pygments_lexer": "ipython3",
   "version": "3.10.0"
  }
 },
 "nbformat": 4,
 "nbformat_minor": 5
}
