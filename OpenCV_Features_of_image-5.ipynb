{
 "cells": [
  {
   "cell_type": "code",
   "execution_count": 1,
   "id": "6b3c7d60-8f02-4b89-8b7c-3bb10c824dda",
   "metadata": {},
   "outputs": [],
   "source": [
    "import cv2"
   ]
  },
  {
   "cell_type": "code",
   "execution_count": 7,
   "id": "994c3edc-0260-4c1a-96d3-d3fb13d70086",
   "metadata": {},
   "outputs": [],
   "source": [
    "img = cv2.imread(r'C:\\Users\\anmol sarin\\OneDrive\\Desktop\\me\\opencv\\images\\img-1.webp')"
   ]
  },
  {
   "cell_type": "code",
   "execution_count": 8,
   "id": "8eb30e78-36e0-4a0a-94ac-417effb0fa21",
   "metadata": {},
   "outputs": [],
   "source": [
    "cv2.imshow('image display',img)\n",
    "cv2.waitKey(0)\n",
    "cv2.destroyAllWindows()"
   ]
  },
  {
   "cell_type": "code",
   "execution_count": null,
   "id": "4078bf6e-6915-4d2a-a40e-202382bb5f25",
   "metadata": {},
   "outputs": [],
   "source": []
  }
 ],
 "metadata": {
  "kernelspec": {
   "display_name": "Python 3 (ipykernel)",
   "language": "python",
   "name": "python3"
  },
  "language_info": {
   "codemirror_mode": {
    "name": "ipython",
    "version": 3
   },
   "file_extension": ".py",
   "mimetype": "text/x-python",
   "name": "python",
   "nbconvert_exporter": "python",
   "pygments_lexer": "ipython3",
   "version": "3.10.0"
  }
 },
 "nbformat": 4,
 "nbformat_minor": 5
}
