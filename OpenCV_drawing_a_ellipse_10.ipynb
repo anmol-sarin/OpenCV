{
 "cells": [
  {
   "cell_type": "markdown",
   "id": "18d44df3-7f9d-441f-bb68-a6b1e76d187b",
   "metadata": {},
   "source": [
    "## Drawing ellipse on an image using OpenCV\n",
    "#### Syntax of ellipse\n",
    "new_img = cv2.ellipse(\n",
    "<br>old_img,              # Image to draw on    \n",
    "<br>(270, 160),           # Center (x, y)\n",
    "<br>(80, 120),            # Axes (major, minor)\n",
    "<br>30,                   # Angle of rotation\n",
    "<br>0,                    # Start angle\n",
    "<br>360,                  # End angle\n",
    "<br>(0, 255, 0),          # Color (Green)\n",
    "<br>-1,                   # Thickness (-1 for filled)\n",
    "<br>lineType=16           # Line type\n",
    "<br>)\n",
    "<hr>\n",
    "\n",
    "## Syntax of puting text\n",
    " cv2.putText(image, text, origin, fontFace, fontScale, color, thickness, lineType)"
   ]
  },
  {
   "cell_type": "code",
   "execution_count": 1,
   "id": "5a0fd368-c5dc-433b-8e0e-f9a78fe49204",
   "metadata": {},
   "outputs": [],
   "source": [
    "import cv2"
   ]
  },
  {
   "cell_type": "code",
   "execution_count": 4,
   "id": "976c9221-5510-4fb7-8f49-a11576f5f9e8",
   "metadata": {},
   "outputs": [],
   "source": [
    "old_img = cv2.imread(r\"C:\\Users\\anmol sarin\\OneDrive\\Desktop\\me\\opencv\\images\\img-3.webp\")\n",
    "img_resize = cv2.resize(old_img , (400,400))\n",
    "\n",
    "new_img = cv2.ellipse(img_resize , (187,150) , (70,100) , 5 , 0,350,(0,255,0),2 , lineType = 4)\n",
    "# cv2.imshow(\"image\" , new_img)\n",
    "more_new_img = cv2.putText(img = new_img , text = \"kriti Senon\" , org =  (252,150) ,  fontFace=cv2.FONT_HERSHEY_DUPLEX , fontScale = 0.5,color =  (0,255,0) , thickness = 1 ,lineType = cv2.LINE_AA , bottomLeftOrigin = False)\n",
    "cv2.imshow(\"image\" , more_new_img)\n",
    "cv2.waitKey(0)\n",
    "cv2.destroyAllWindows()"
   ]
  },
  {
   "cell_type": "code",
   "execution_count": null,
   "id": "a0ab5be7-d2bc-461f-bc04-18c40bf6d43d",
   "metadata": {},
   "outputs": [],
   "source": []
  }
 ],
 "metadata": {
  "kernelspec": {
   "display_name": "Python 3 (ipykernel)",
   "language": "python",
   "name": "python3"
  },
  "language_info": {
   "codemirror_mode": {
    "name": "ipython",
    "version": 3
   },
   "file_extension": ".py",
   "mimetype": "text/x-python",
   "name": "python",
   "nbconvert_exporter": "python",
   "pygments_lexer": "ipython3",
   "version": "3.10.0"
  }
 },
 "nbformat": 4,
 "nbformat_minor": 5
}
