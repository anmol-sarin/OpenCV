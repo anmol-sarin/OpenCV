{
 "cells": [
  {
   "attachments": {},
   "cell_type": "markdown",
   "id": "72da3a57-882b-4d60-b7f6-e6bc523613b6",
   "metadata": {},
   "source": [
    "## DRAWING LINE USING OPENCV IN AN IMAGE\n",
    "Syntax:\n",
    "<br>new_img = cv2.line(image, pt1, pt2, color, thickness, lineType)\n"
   ]
  },
  {
   "cell_type": "code",
   "execution_count": 1,
   "id": "dc364f41-7e1d-4c69-8ce4-8ac4ce746a3e",
   "metadata": {},
   "outputs": [],
   "source": [
    "import cv2"
   ]
  },
  {
   "cell_type": "code",
   "execution_count": 2,
   "id": "c0dd9552-b96e-432a-bc68-823148c6eb67",
   "metadata": {},
   "outputs": [],
   "source": [
    "img = cv2.imread(r\"C:\\Users\\anmol sarin\\OneDrive\\Desktop\\me\\opencv\\images\\img-1.webp\")\n",
    "img_resize = cv2.resize(img,(500,250))\n",
    "new_img = cv2.line(img_resize,(200,50),(250,50),(0,255,0),2,4)\n",
    "cv2.imshow(\"imageWithLine\",new_img)\n",
    "cv2.waitKey(0)\n",
    "cv2.destroyAllWindows()\n"
   ]
  }
 ],
 "metadata": {
  "kernelspec": {
   "display_name": "Python 3 (ipykernel)",
   "language": "python",
   "name": "python3"
  },
  "language_info": {
   "codemirror_mode": {
    "name": "ipython",
    "version": 3
   },
   "file_extension": ".py",
   "mimetype": "text/x-python",
   "name": "python",
   "nbconvert_exporter": "python",
   "pygments_lexer": "ipython3",
   "version": "3.10.0"
  }
 },
 "nbformat": 4,
 "nbformat_minor": 5
}
